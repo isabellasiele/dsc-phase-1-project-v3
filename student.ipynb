{
 "cells": [
  {
   "cell_type": "markdown",
   "metadata": {},
   "source": [
    "## Final Project Submission\n",
    "\n",
    "Please fill out:\n",
    "* Student name: Isabella Siele\n",
    "* Student pace:  full time\n",
    "* Scheduled project review date/time: 3/10/2025\n",
    "* Instructor name: Samuel Karu\n",
    "* Blog post URL:\n"
   ]
  },
  {
   "cell_type": "markdown",
   "metadata": {},
   "source": [
    "# Aviation Accident Risk Analysis\n",
    "## 1.Overview\n",
    "\n",
    "The company is planning to expand into the aviation industry to diversify its portfolio. The idea is to purchase and operate aircraft for commercial and private use. The project will thus use data to provide insights and guide on decisions to make by cleaning, analysing and visualizations.\n",
    "\n",
    "## 2.Problem Statement\n",
    "\n",
    "The company does not have much information on aviation safety or accident patterns. This may expose the business to unnecessary risks like financial losses and safety concerns.Thus the  project aims to determine which aircraft has the lowest risk for the company to start this new business and what factors to consider which influence the occurence of accidents. \n",
    "\n",
    "## 3.Objectives\n",
    "\n",
    "This project will focus on answering three main questions:\n",
    "\n",
    "-Which aircraft make and categories have the lowest accident and fatality rates?It helps to identify safe aircraft types to prioritize during purchase.\n",
    "\n",
    "-What outside factors(Weather conditions)play the biggest role  in accidents?\n",
    "\n",
    "-How does the purpose of flight(commercial)affect accident risks?\n",
    "\n"
   ]
  },
  {
   "cell_type": "markdown",
   "metadata": {},
   "source": [
    "## Data Understanding"
   ]
  },
  {
   "cell_type": "code",
   "execution_count": null,
   "metadata": {},
   "outputs": [],
   "source": [
    "# Importing needed libraries\n",
    "import pandas as pd\n",
    "import numpy as np\n",
    "import matplotlib.pyplot as plt"
   ]
  },
  {
   "cell_type": "code",
   "execution_count": null,
   "metadata": {},
   "outputs": [],
   "source": [
    "# loading data\n",
    "df = pd.read_csv(\".\\data\\Aviation_Data.csv\")"
   ]
  },
  {
   "cell_type": "code",
   "execution_count": null,
   "metadata": {},
   "outputs": [],
   "source": [
    "# Top 5 rows in the dataset\n",
    "df.head()"
   ]
  },
  {
   "cell_type": "code",
   "execution_count": null,
   "metadata": {},
   "outputs": [],
   "source": [
    "# last 5 rows in the dataset\n",
    "df.tail()"
   ]
  },
  {
   "cell_type": "code",
   "execution_count": null,
   "metadata": {},
   "outputs": [],
   "source": [
    "# Shows Number of rows and columns in dataset\n",
    "df.shape"
   ]
  },
  {
   "cell_type": "code",
   "execution_count": null,
   "metadata": {},
   "outputs": [],
   "source": [
    "# Info of dataset\n",
    "df.info()"
   ]
  },
  {
   "cell_type": "code",
   "execution_count": null,
   "metadata": {},
   "outputs": [],
   "source": [
    "# Columns in dataset\n",
    "df.columns"
   ]
  },
  {
   "cell_type": "code",
   "execution_count": null,
   "metadata": {},
   "outputs": [],
   "source": [
    "# The datatypes in columns\n",
    "df.dtypes"
   ]
  },
  {
   "cell_type": "markdown",
   "metadata": {},
   "source": [
    "## Data Preparation"
   ]
  },
  {
   "cell_type": "code",
   "execution_count": null,
   "metadata": {},
   "outputs": [],
   "source": [
    "# checking for missing values\n",
    "df.isna().sum().sort_values(ascending=False)"
   ]
  },
  {
   "cell_type": "code",
   "execution_count": null,
   "metadata": {},
   "outputs": [],
   "source": [
    "# Dropping the first five because alot of data is missing\n",
    "df.drop(columns=[\"Schedule\",\"Air.carrier\",\"FAR.Description\",\"Longitude\",\"Latitude\"], inplace=True)"
   ]
  },
  {
   "cell_type": "code",
   "execution_count": null,
   "metadata": {},
   "outputs": [],
   "source": [
    "# Select columns which will be used\n",
    "use_columns = [\n",
    "    \"Make\",\"Event.Date\",\n",
    "    \"Model\",\n",
    "    \"Injury.Severity\",\n",
    "    \"Total.Fatal.Injuries\",\n",
    "    \"Total.Serious.Injuries\",\n",
    "    \"Total.Minor.Injuries\",\n",
    "    \"Total.Uninjured\",\n",
    "    \"Purpose.of.flight\",\n",
    "    \"Weather.Condition\",\"Broad.phase.of.flight\"\n",
    "]"
   ]
  },
  {
   "cell_type": "code",
   "execution_count": null,
   "metadata": {},
   "outputs": [],
   "source": [
    "#nMissing values in the selected columns\n",
    "missing_count = df[use_columns].isnull().sum()\n",
    "missing_percentage = df[use_columns].isnull().mean()\n",
    "\n",
    "# Combine to a dataframe\n",
    "missing = pd.DataFrame({\n",
    "    \"Missing Count\": missing_count,\n",
    "    \"Missing Percentage\": missing_percentage\n",
    "})\n",
    "missing"
   ]
  },
  {
   "cell_type": "code",
   "execution_count": null,
   "metadata": {},
   "outputs": [],
   "source": [
    "# Dropping missing values in Make, Model,Purpose of flight,Weather condition,broad phase of flight\n",
    "df.dropna(subset=[\"Make\",\"Model\",\"Purpose.of.flight\",\"Weather.Condition\",\"Broad.phase.of.flight\"], inplace=True)"
   ]
  },
  {
   "cell_type": "code",
   "execution_count": null,
   "metadata": {},
   "outputs": [],
   "source": [
    "# Fill injury columns blanks with 0\n",
    "injury_columns = [\n",
    "    \"Total.Fatal.Injuries\", \"Total.Serious.Injuries\", \n",
    "            \"Total.Minor.Injuries\", \"Total.Uninjured\"\n",
    "]\n",
    "df[injury_columns] = df[injury_columns].fillna(0)"
   ]
  },
  {
   "cell_type": "code",
   "execution_count": null,
   "metadata": {},
   "outputs": [],
   "source": [
    "# Changing injury columns datatype to integer\n",
    "df[injury_columns] = df[injury_columns].astype(int)"
   ]
  },
  {
   "cell_type": "code",
   "execution_count": null,
   "metadata": {},
   "outputs": [],
   "source": [
    "# Recheck missing values \n",
    "df[use_columns].isna().sum().sort_values(ascending=False) "
   ]
  },
  {
   "cell_type": "code",
   "execution_count": null,
   "metadata": {},
   "outputs": [],
   "source": [
    "# Changing the categorical columns datatype to string \n",
    "df[[\"Make\",\"Model\",\"Purpose.of.flight\",\"Weather.Condition\",\"Broad.phase.of.flight\"]] = df[[ \"Make\",\"Model\",\"Purpose.of.flight\",\"Weather.Condition\",\"Broad.phase.of.flight\"]].astype(str)"
   ]
  },
  {
   "cell_type": "code",
   "execution_count": null,
   "metadata": {},
   "outputs": [],
   "source": [
    "# Convert date columns to datetime\n",
    "df['Event.Date'] = pd.to_datetime(df['Event.Date'], errors='coerce')\n",
    "df['Publication.Date'] = pd.to_datetime(df['Publication.Date'], errors='coerce')\n",
    "df[\"Event.Date\"].dtypes"
   ]
  },
  {
   "cell_type": "code",
   "execution_count": null,
   "metadata": {},
   "outputs": [],
   "source": [
    "# Checking for duplicates\n",
    "df.duplicated().value_counts()"
   ]
  },
  {
   "cell_type": "code",
   "execution_count": null,
   "metadata": {},
   "outputs": [],
   "source": [
    "# Dropping duplicated values\n",
    "df.drop_duplicates(inplace=True)"
   ]
  },
  {
   "cell_type": "code",
   "execution_count": null,
   "metadata": {},
   "outputs": [],
   "source": [
    "# Ensuring duplicates were dropped\n",
    "df.duplicated().value_counts()"
   ]
  },
  {
   "cell_type": "code",
   "execution_count": null,
   "metadata": {},
   "outputs": [],
   "source": [
    "# Making all to be uppercase and stripping spaces\n",
    "df[\"Purpose.of.flight\"] = df[\"Purpose.of.flight\"].astype(str).str.upper().str.strip()"
   ]
  },
  {
   "cell_type": "code",
   "execution_count": null,
   "metadata": {},
   "outputs": [],
   "source": [
    "# Regrouping the purpose of flight\n",
    "df[\"Purpose.of.flight\"] = df[\"Purpose.of.flight\"].replace({\n",
    "    \"BUSINESS\": \"COMMERCIAL\",\"EXECUTIVE/CORPORATE\":\"COMMERCIAL\",\n",
    "    \"PUBS\":\"COMMERCIAL\",\"PUBL\":\"COMMERCIAL\",\n",
    "    \"AIR RACE/SHOW\":\"AIR SHOW\",\"AIR RACE SHOW\":\"AIR SHOW\",\n",
    "    \"PUBLIC AIRCRAFT _ LOCAL\":\"PUBLIC AIRCRAFT\",\n",
    "    \"PUBLIC AIRCRAFT - STATE\":\"PUBLIC AIRCRAFT\",\n",
    "    \"PUBLIC AIRCRAFT - LOCAL\":\"PUBLIC AIRCRAFT\",\n",
    "    \"PUBLIC AIRCRAFT - FEDERAL\":\"PUBLIC AIRCRAFT\"})"
   ]
  },
  {
   "cell_type": "code",
   "execution_count": null,
   "metadata": {},
   "outputs": [],
   "source": [
    "# Regrouping manufacturers of aircrafts\n",
    "df[\"Make\"] = df[\"Make\"].replace({\"BOMBARDIER\":\"BOMBARDIER INC\"})"
   ]
  },
  {
   "cell_type": "code",
   "execution_count": null,
   "metadata": {},
   "outputs": [],
   "source": [
    "# Getting year using the event date\n",
    "df[\"Year\"] = df[\"Event.Date\"].dt.year"
   ]
  },
  {
   "cell_type": "code",
   "execution_count": null,
   "metadata": {},
   "outputs": [],
   "source": [
    "# Calculating fatality rate and creating a new column Fatality rate\n",
    "# Fatality rate = [Total Fatal Injuries]/ [Total Aboard]\n",
    "df['Total.Aboard'] = (\n",
    "    df['Total.Fatal.Injuries'] +df['Total.Serious.Injuries'] +\n",
    "    df['Total.Minor.Injuries'] +df['Total.Uninjured'])\n",
    "\n",
    "df['Fatality.Rate'] = df['Total.Fatal.Injuries'] / df['Total.Aboard']"
   ]
  },
  {
   "cell_type": "code",
   "execution_count": null,
   "metadata": {},
   "outputs": [],
   "source": [
    "# Top 5 rows to check if changes were implemented\n",
    "df.head()"
   ]
  },
  {
   "cell_type": "markdown",
   "metadata": {},
   "source": [
    "## Data Analysis"
   ]
  },
  {
   "cell_type": "markdown",
   "metadata": {},
   "source": [
    "- Distribution of accidents over time"
   ]
  },
  {
   "cell_type": "code",
   "execution_count": null,
   "metadata": {},
   "outputs": [],
   "source": [
    "# Accidents by year\n",
    "accidents_per_year = df[\"Year\"].value_counts().sort_index()\n",
    "\n",
    "plt.figure(figsize=(15,6))\n",
    "accidents_per_year.plot(kind=\"line\", marker=\"o\")\n",
    "plt.title(\"Number of Accidents Per Year\")\n",
    "plt.xlabel(\"Year\")\n",
    "plt.ylabel(\"Accident Count\")\n",
    "plt.grid(True)\n",
    "plt.show()"
   ]
  },
  {
   "cell_type": "markdown",
   "metadata": {},
   "source": [
    "This shows that the number of accidents has been decreasing over the years but the beginning is flat due to no records of accidents early on."
   ]
  },
  {
   "cell_type": "markdown",
   "metadata": {},
   "source": [
    "- Distribution of accidents by phase of flight "
   ]
  },
  {
   "cell_type": "code",
   "execution_count": null,
   "metadata": {},
   "outputs": [],
   "source": [
    "# Accidents by Flight Phase\n",
    "phase_counts = df[\"Broad.phase.of.flight\"].value_counts()\n",
    "\n",
    "plt.figure(figsize=(8,6))\n",
    "phase_counts.plot(kind=\"bar\")\n",
    "plt.title(\"Accidents by Broad Phase of Flight\")\n",
    "plt.ylabel(\"Accident Count\")\n",
    "plt.xlabel(\"Phase\")\n",
    "plt.show()"
   ]
  },
  {
   "cell_type": "markdown",
   "metadata": {},
   "source": [
    "Most accidents are seen to occur during the landing phase followed by takeoff then cruise. It means they should increase safety precautions during landing and takeoff."
   ]
  },
  {
   "cell_type": "markdown",
   "metadata": {},
   "source": [
    "- Comparison of Accident Counts and Fatalities Across Aircraft Manufacturers"
   ]
  },
  {
   "cell_type": "code",
   "execution_count": null,
   "metadata": {},
   "outputs": [],
   "source": [
    "# Top 10 makes with most accidents\n",
    "top_makes = df['Make'].value_counts().nlargest(10).index\n",
    "accidents = df['Make'].value_counts().loc[top_makes]\n",
    "\n",
    "# Average fatalities for the same top makes\n",
    "fatalities = df.groupby(\"Make\")[\"Total.Fatal.Injuries\"].mean().loc[top_makes]\n",
    "\n",
    "fig, ax1 = plt.subplots(figsize=(12,6))\n",
    "\n",
    "# Bars (accident counts)\n",
    "ax1.bar(top_makes, accidents, color='skyblue')\n",
    "ax1.set_xlabel(\"Aircraft Make\")\n",
    "ax1.set_ylabel(\"Number of Accidents\")\n",
    "\n",
    "# Second y-axis (fatalities)\n",
    "ax2 = ax1.twinx()\n",
    "ax2.plot(top_makes, fatalities, color='red', marker='o',)\n",
    "ax2.set_ylabel(\"Average Fatalities per Accident\", color='red')\n",
    "\n",
    "plt.title(\"Accidents vs Fatality Rate by Aircraft Make\")\n",
    "plt.xticks(rotation=45)\n",
    "plt.show()\n"
   ]
  },
  {
   "cell_type": "markdown",
   "metadata": {},
   "source": [
    "This shows that Cessna has a lot of accidents  but the average fatality per accident is very relatively low .The fatality rate per accident is moderate compared to boeing which has a very low number of accidents but the fatality is very high."
   ]
  },
  {
   "cell_type": "markdown",
   "metadata": {},
   "source": [
    "- Accidents and fatalities by purpose of flight"
   ]
  },
  {
   "cell_type": "code",
   "execution_count": null,
   "metadata": {},
   "outputs": [],
   "source": [
    "# Group by Purpose of Flight\n",
    "purpose_stats = df.groupby(\"Purpose.of.flight\").agg(\n",
    "    accidents=(\"Event.Id\", \"count\"),\n",
    "    avg_fatality_rate=(\"Fatality.Rate\", \"mean\"))\n",
    "\n",
    "# Filter out categories with very few accidents\n",
    "purpose_stats = purpose_stats[purpose_stats[\"accidents\"] >= 10]\n"
   ]
  },
  {
   "cell_type": "code",
   "execution_count": null,
   "metadata": {},
   "outputs": [],
   "source": [
    "# Sort by accident count in descending order\n",
    "purpose_stats = purpose_stats.sort_values(\"accidents\", ascending=False)\n",
    "\n",
    "\n",
    "fig, ax1 = plt.subplots(figsize=(12,6))\n",
    "\n",
    "bars = ax1.bar(purpose_stats.index, purpose_stats[\"accidents\"],)\n",
    "ax1.set_ylabel(\"Accident Count\")\n",
    "ax1.set_xlabel(\"Purpose of Flight\")\n",
    "ax1.tick_params(rotation=45) \n",
    "\n",
    "ax2 = ax1.twinx()\n",
    "ax2.plot(purpose_stats.index, purpose_stats[\"avg_fatality_rate\"], \n",
    "         color=\"red\", marker=\"o\", label=\"Fatality Rate\")\n",
    "ax2.set_ylabel(\"Average Fatality Rate\", color=\"red\", fontsize=12)\n",
    "\n",
    "plt.title(\"Accident Count vs Fatality Rate by Purpose of Flight\", )\n",
    "plt.show()"
   ]
  },
  {
   "cell_type": "markdown",
   "metadata": {},
   "source": [
    "Personal and instructional flights are seen to have a high number of accidents but a very low fatility rate compared to commercial flights which are seen to have few accidents but a very high fatality rate. This may be due to the large number of passengers in commercial flights compared to private flights."
   ]
  },
  {
   "cell_type": "markdown",
   "metadata": {},
   "source": [
    "- Analysis of accidents based on weather condition"
   ]
  },
  {
   "cell_type": "code",
   "execution_count": null,
   "metadata": {},
   "outputs": [],
   "source": [
    "# Group data by weather condition\n",
    "weather_stats = df.groupby(\"Weather.Condition\").agg(\n",
    "    accidents=(\"Event.Id\", \"count\"),\n",
    "    fatalities=(\"Total.Fatal.Injuries\", \"sum\"),\n",
    "    uninjured=(\"Total.Uninjured\", \"sum\"),\n",
    "    avg_fatality_rate=(\"Fatality.Rate\", \"mean\"))\n",
    "\n",
    "# Sort by accident counts\n",
    "weather_stats = weather_stats.sort_values(\"accidents\", ascending=False)\n",
    "\n",
    "fig, ax1 = plt.subplots(figsize=(10,6))\n",
    "# Bar plot for accident counts\n",
    "bars = ax1.bar(weather_stats.index, weather_stats[\"accidents\"])\n",
    "ax1.set_ylabel(\"Accident Count\")\n",
    "ax1.set_xlabel(\"Weather Condition\")\n",
    "\n",
    "# Line plot for fatality rate\n",
    "ax2 = ax1.twinx()\n",
    "ax2.plot(weather_stats.index, weather_stats[\"avg_fatality_rate\"], color=\"red\", marker=\"o\")\n",
    "ax2.set_ylabel(\"Fatality Rate\")\n",
    "\n",
    "plt.title(\"Accident Count vs Fatality Rate by Weather Condition\")\n",
    "plt.show()\n"
   ]
  },
  {
   "cell_type": "markdown",
   "metadata": {},
   "source": [
    "It shows that most accidents occured during VMC which is when most flights are conducted but it has a relatively small fatality rate.It is then shown that most fatalities occured during IMC though it has fewer accidents"
   ]
  }
 ],
 "metadata": {
  "kernelspec": {
   "display_name": "Python 3",
   "language": "python",
   "name": "python3"
  },
  "language_info": {
   "codemirror_mode": {
    "name": "ipython",
    "version": 3
   },
   "file_extension": ".py",
   "mimetype": "text/x-python",
   "name": "python",
   "nbconvert_exporter": "python",
   "pygments_lexer": "ipython3",
   "version": "3.6.4"
  }
 },
 "nbformat": 4,
 "nbformat_minor": 2
}
